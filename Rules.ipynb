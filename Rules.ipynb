{
 "cells": [
  {
   "cell_type": "code",
   "execution_count": null,
   "id": "06b12074-b49d-4134-b4e5-f51027b460a3",
   "metadata": {},
   "outputs": [],
   "source": [
    "import json\n",
    "# Preparing to annotate the 1000 samples with UBERON terms and save the result in a text file\n",
    "\n",
    "\n",
    "\n",
    "annotated_samples = []\n",
    "tissue_values = []\n",
    "file_path = 'data/lung_cancer_800_gpt_output.json'\n",
    "\n",
    "# Read the JSON lines and annotate each sample with its corresponding UBERON tissue\n",
    "with open(file_path, 'r') as file:\n",
    "    for idx, line in enumerate(file):\n",
    "        try:\n",
    "            sample = json.loads(line)\n",
    "            tissue = sample.get(\"BioSample\", {}).get(\"tissue\", \"unknown\").lower()\n",
    "            if tissue not in tissue_values:\n",
    "                tissue_values.append(tissue)\n",
    "            nam = 'unknown'\n",
    "            # if 'ovary' in tissue or 'ovarian' in tissue:\n",
    "            #     nam = 'ovary'\n",
    "            # elif 'plasma' in tissue:\n",
    "            #     nam = 'plasma'\n",
    "            # elif 'PBMC' in tissue or 'blood' in tissue:\n",
    "            #     nam = 'blood'\n",
    "            # elif 'lymph' in tissue:\n",
    "            #     nam = 'lymph'\n",
    "            # elif 'plasma' in tissue:\n",
    "            #     nam = 'plasma'\n",
    "            # annotated_samples.append(f\"{nam}\")\n",
    "            #if 'liver' in tissue or 'HCC' in tissue:\n",
    "            #    nam = 'liver'\n",
    "            if 'lung' in tissue:\n",
    "                nam = 'lung'\n",
    "            elif 'PBMC' in tissue or 'blood' in tissue:\n",
    "                nam = 'blood'\n",
    "            elif 'lymph' in tissue:\n",
    "                nam = 'lymph'\n",
    "            elif 'plasma' in tissue:\n",
    "                nam = 'plasma'\n",
    "            annotated_samples.append(f\"{nam}\")\n",
    "           \n",
    "        except json.JSONDecodeError:\n",
    "            print('hi')\n",
    "            continue\n",
    "\n",
    "# Save the annotated samples to a text file\n",
    "output_file_path = \"annotated_800_simple_lung.txt\"\n",
    "with open(output_file_path, \"w\") as file:\n",
    "    for sample in annotated_samples:\n",
    "        print(sample)\n",
    "        file.write(sample + \"\\n\")\n",
    "\n",
    "output_file_path  # Return the file path for download"
   ]
  }
 ],
 "metadata": {
  "kernelspec": {
   "display_name": "Python 3 (ipykernel)",
   "language": "python",
   "name": "python3"
  },
  "language_info": {
   "codemirror_mode": {
    "name": "ipython",
    "version": 3
   },
   "file_extension": ".py",
   "mimetype": "text/x-python",
   "name": "python",
   "nbconvert_exporter": "python",
   "pygments_lexer": "ipython3",
   "version": "3.9.13"
  }
 },
 "nbformat": 4,
 "nbformat_minor": 5
}
