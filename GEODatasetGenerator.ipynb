{
 "cells": [
  {
   "cell_type": "code",
   "execution_count": null,
   "id": "228256f5-0679-4c0c-aff0-ea3126371d0a",
   "metadata": {},
   "outputs": [],
   "source": [
    "!pip install GEOparse"
   ]
  },
  {
   "cell_type": "code",
   "execution_count": null,
   "id": "ff34348b-bcb4-404c-94e0-d77f0552690f",
   "metadata": {
    "tags": []
   },
   "outputs": [],
   "source": [
    "import GEOparse\n",
    "\n",
    "# Provide the GEO accession number (for example, GSE12345)\n",
    "gse = GEOparse.get_GEO(geo=\"GSE12345\", destdir=\".\", how=\"full\")\n",
    "\n"
   ]
  },
  {
   "cell_type": "code",
   "execution_count": null,
   "id": "14530bef-4238-47c8-922b-b373e9aaea52",
   "metadata": {
    "tags": []
   },
   "outputs": [],
   "source": [
    "# Check the metadata of the dataset\n",
    "print(gse.metadata)\n",
    "\n",
    "\n"
   ]
  },
  {
   "cell_type": "code",
   "execution_count": null,
   "id": "43291be6-c36e-492e-aceb-2d59d986cbfc",
   "metadata": {},
   "outputs": [],
   "source": [
    "# Get the sample names\n",
    "print(gse.metadata['sample_id'])"
   ]
  },
  {
   "cell_type": "code",
   "execution_count": null,
   "id": "2631d940-e3c9-4cab-b8cf-787b4fa80dd2",
   "metadata": {},
   "outputs": [],
   "source": [
    "gsm = GEOparse.get_GEO(geo='GSM6637162', destdir=\".\", how=\"full\")\n",
    "print(gsm.metadata)  # View sample metadata"
   ]
  },
  {
   "cell_type": "code",
   "execution_count": null,
   "id": "a64b0429-c276-4f35-9492-29a0dcfd8ab2",
   "metadata": {},
   "outputs": [],
   "source": [
    "with open(\"liver_cancer_geo.txt\", \"r\") as file:\n",
    "    content = file.read()  # Reads the entire file"
   ]
  },
  {
   "cell_type": "code",
   "execution_count": null,
   "id": "4ed16048-135d-4f79-af60-0a738c0debcb",
   "metadata": {},
   "outputs": [],
   "source": [
    "import re\n",
    "# Regular expression to match sections\n",
    "pattern = r'(\\d+)\\.\\s(.*?)\\n\\(Submitter supplied\\)(.*?)Organism:\\s*(.*?)\\nType:\\s*(.*?)\\nPlatform(?:s)?:\\s*(.*?)\\nFTP download:\\s*(.*?)\\nSeries\\s*Accession:\\s*(.*?)\\s*ID:\\s*(\\d+)'\n",
    "\n",
    "# Parse the text into sections\n",
    "matches = re.findall(pattern, content, re.DOTALL)\n",
    "\n",
    "# Structure to hold the parsed data\n",
    "datasets = []\n",
    "\n",
    "# Extract and store each section's data in a dictionary\n",
    "for match in matches:\n",
    "    entry = {\n",
    "        'index': match[0],\n",
    "        'title': match[1].strip(),\n",
    "        'description': match[2].strip(),\n",
    "        'organism': match[3].strip(),\n",
    "        'type': match[4].strip(),\n",
    "        'platforms': match[5].strip(),\n",
    "        'ftp_download': match[6].strip(),\n",
    "        'accession': match[7].strip(),\n",
    "        'id': match[8].strip()\n",
    "    }\n",
    "    datasets.append(entry)"
   ]
  },
  {
   "cell_type": "code",
   "execution_count": null,
   "id": "65e5f5f3-6c3f-46e1-9317-b6fd372745bd",
   "metadata": {},
   "outputs": [],
   "source": [
    "def create_record(raw_geo):\n",
    "    new_data = []\n",
    "    acc = raw_geo['accession']\n",
    "    gse = GEOparse.get_GEO(geo=acc, destdir=\"geo/\", how=\"full\")\n",
    "    title = gse.metadata.get('title','')\n",
    "    summary = gse.metadata.get('summary','')\n",
    "    design = gse.metadata.get('design','')\n",
    "    samples = gse.metadata.get('sample_id','')\n",
    "    if len(samples) == 0:\n",
    "        return new_data\n",
    "    for sample in samples:\n",
    "        gsm = GEOparse.get_GEO(geo=sample, destdir=\"geo/\"+acc+\"/\", how=\"full\")\n",
    "        characteristics = gsm.metadata.get('characteristics_ch1','')\n",
    "        # Initialize an empty dictionary\n",
    "        attributes_dict = {}\n",
    "        attributes_dict['title'] = title\n",
    "        attributes_dict['summary'] = summary\n",
    "        attributes_dict['design'] = design\n",
    "        attributes_dict['gse'] = acc\n",
    "        attributes_dict['gsm'] = gsm.metadata['geo_accession']\n",
    "        if characteristics:\n",
    "            # Loop through the list and process each element\n",
    "            for item in characteristics:\n",
    "                try:\n",
    "                    # Split the string into key and value\n",
    "                    key, value = item.split(\":\")\n",
    "                    # Strip any extra whitespace and add to dictionary\n",
    "                    attributes_dict[key.strip()] = value.strip()\n",
    "                except ValueError:\n",
    "                    # Handle cases where splitting fails (e.g., no colon in the string)\n",
    "                    attributes_dict[item] = ''\n",
    "                    print(f\"Skipping invalid entry: {item}\")\n",
    "        new_data.append(attributes_dict)\n",
    "    return new_data\n",
    "       \n",
    "    "
   ]
  },
  {
   "cell_type": "code",
   "execution_count": null,
   "id": "b9d67a0c-b33c-43c6-ba38-08e3080f34dc",
   "metadata": {
    "tags": []
   },
   "outputs": [],
   "source": [
    "ans = create_record(datasets[0])"
   ]
  },
  {
   "cell_type": "code",
   "execution_count": null,
   "id": "af1640f7-826d-4436-91bd-191c92db1185",
   "metadata": {
    "tags": []
   },
   "outputs": [],
   "source": [
    "for a in ans:\n",
    "    print(a.get('tissue',''))\n",
    "    print(a.get('summary',''))"
   ]
  },
  {
   "cell_type": "code",
   "execution_count": null,
   "id": "3317946a-5f9a-4a07-b5a1-dfb3b8f9d5dc",
   "metadata": {
    "tags": []
   },
   "outputs": [],
   "source": [
    "final_data = []\n",
    "for d in datasets:\n",
    "    if 'liver cancer' in d['title']:\n",
    "        ans = create_record(d)\n",
    "        final_data.extend(ans)\n",
    "        if len(final_data) > 1000:\n",
    "            break\n",
    "        "
   ]
  },
  {
   "cell_type": "code",
   "execution_count": null,
   "id": "899eb60d-adee-435c-bbd8-019e52efba41",
   "metadata": {
    "tags": []
   },
   "outputs": [],
   "source": [
    "print(len(final_data))"
   ]
  },
  {
   "cell_type": "code",
   "execution_count": null,
   "id": "9f3966d9-ae1b-48e5-9835-97c33870b6d9",
   "metadata": {},
   "outputs": [],
   "source": []
  },
  {
   "cell_type": "code",
   "execution_count": null,
   "id": "c12365d3-0168-4c99-9354-ab40f97fa0eb",
   "metadata": {},
   "outputs": [],
   "source": [
    "import random\n",
    "random_samples = random.sample(final_data, 800)"
   ]
  },
  {
   "cell_type": "code",
   "execution_count": null,
   "id": "17477b35-760a-4eb4-9846-355db3f52a03",
   "metadata": {
    "tags": []
   },
   "outputs": [],
   "source": [
    "print(len(random_samples))"
   ]
  },
  {
   "cell_type": "code",
   "execution_count": null,
   "id": "298f66b7-22ea-4d25-8a2e-c83c8e08e153",
   "metadata": {},
   "outputs": [],
   "source": [
    "import json\n",
    "# Write the list of dictionaries to a JSON file\n",
    "with open('ovarian_cancer_geo.json', 'w') as json_file:\n",
    "    json.dump(random_samples, json_file, indent=4)  # 'indent=4' adds readability to the file"
   ]
  },
  {
   "cell_type": "code",
   "execution_count": null,
   "id": "a64bdf8f-efbd-41fd-acab-cc6856f61274",
   "metadata": {},
   "outputs": [],
   "source": []
  }
 ],
 "metadata": {
  "kernelspec": {
   "display_name": "Python 3 (ipykernel)",
   "language": "python",
   "name": "python3"
  },
  "language_info": {
   "codemirror_mode": {
    "name": "ipython",
    "version": 3
   },
   "file_extension": ".py",
   "mimetype": "text/x-python",
   "name": "python",
   "nbconvert_exporter": "python",
   "pygments_lexer": "ipython3",
   "version": "3.9.13"
  }
 },
 "nbformat": 4,
 "nbformat_minor": 5
}
