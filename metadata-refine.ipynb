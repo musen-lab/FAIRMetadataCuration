{
 "cells": [
  {
   "cell_type": "code",
   "execution_count": null,
   "id": "ffc46858-4138-492c-8611-0996c513d46e",
   "metadata": {},
   "outputs": [],
   "source": [
    "import json\n",
    "def read_and_parse_json(file_path):\n",
    "    parsed_objects = []\n",
    "    with open(file_path, 'r') as file:\n",
    "        for line in file:\n",
    "            try:\n",
    "            # Parsing each line as a separate JSON object\n",
    "              json_object = json.loads(line.strip())\n",
    "              parsed_objects.append(json_object)\n",
    "            except:\n",
    "              print(f\"Error serializing record: {line}\")\n",
    "              continue\n",
    "    return parsed_objects\n",
    "\n"
   ]
  },
  {
   "cell_type": "code",
   "execution_count": null,
   "id": "6b1a5ce7-5880-4d1c-bfb0-60824d29787a",
   "metadata": {
    "jupyter": {
     "source_hidden": true
    },
    "tags": []
   },
   "outputs": [],
   "source": [
    "import json\n",
    "\n",
    "# Open and read the JSON file\n",
    "with open('liver_cancer_medllama_geo_output.json', 'r') as file:\n",
    "    data = json.load(file)\n",
    "\n",
    "\n",
    "print(type(data))\n",
    "print(len(data))\n"
   ]
  },
  {
   "cell_type": "code",
   "execution_count": null,
   "id": "cd6fca0a-840b-4076-8a49-3ecdb0615907",
   "metadata": {},
   "outputs": [],
   "source": [
    "data = read_and_parse_json(\"data/ovarian_cancer_medllama_biosample_output.json\")"
   ]
  },
  {
   "cell_type": "code",
   "execution_count": null,
   "id": "8ec73c2e-0362-4706-b6dd-103246437dc8",
   "metadata": {},
   "outputs": [],
   "source": [
    "def printSample(record, term):\n",
    "  val_rec = record[term]\n",
    "  l = \"\"\n",
    "  for val in val_rec.keys():\n",
    "    l = l + str(val) + ' : ' + str(val_rec[val]) + '\\n'\n",
    "\n",
    "  return l"
   ]
  },
  {
   "cell_type": "code",
   "execution_count": null,
   "id": "765ac207-97a9-41f1-8224-809567ec2cb0",
   "metadata": {
    "tags": []
   },
   "outputs": [],
   "source": [
    "samples = []\n",
    "cedar_samples = []\n",
    "llm_samples = []\n",
    "\n",
    "for d in data:\n",
    "  samples.append(d['BioSample'])\n",
    "  llm_samples.append(d['LLM'])\n",
    "  cedar_samples.append(d['LLM+CEDAR'])"
   ]
  },
  {
   "cell_type": "code",
   "execution_count": null,
   "id": "0d6b9bf6-4333-4975-a487-1efe3aadbce1",
   "metadata": {},
   "outputs": [],
   "source": [
    "def search(samples, field_name, field_value):\n",
    "  return_set = []\n",
    "  for ind, sample in enumerate(samples):\n",
    "    if (field_name in sample.keys()):\n",
    "      if (sample[field_name] == field_value.lower()):\n",
    "        return_set.append([ind, sample])\n",
    "  return return_set"
   ]
  },
  {
   "cell_type": "code",
   "execution_count": null,
   "id": "62dc0c30-1afb-4cfb-af26-637feae6adba",
   "metadata": {},
   "outputs": [],
   "source": [
    "tissue_lung_biosample = search(samples, \"tissue\", \"blood\")\n",
    "tissue_lung_llm = search(llm_samples, \"tissue\", \"blood\")\n",
    "tissue_lung_cedar = search(cedar_samples, \"tissue\", \"blood\")"
   ]
  },
  {
   "cell_type": "code",
   "execution_count": null,
   "id": "475a473e-77a3-49a2-be40-18ba108df5a6",
   "metadata": {},
   "outputs": [],
   "source": [
    "print(len(tissue_lung_biosample))\n",
    "print(len(tissue_lung_llm))\n",
    "print(len(tissue_lung_cedar))"
   ]
  },
  {
   "cell_type": "code",
   "execution_count": null,
   "id": "1457d14a-5496-4e12-b2da-66f7eb61f2ac",
   "metadata": {},
   "outputs": [],
   "source": [
    "tv = {}\n",
    "for t in cedar_samples:\n",
    "    if 'tissue' in t:\n",
    "        count = tv.get(t['tissue'],0)\n",
    "        tv[t['tissue']] = count + 1\n",
    "print(tv)"
   ]
  },
  {
   "cell_type": "code",
   "execution_count": null,
   "id": "e83aa0fc-3885-4017-9664-b8be05ba22ac",
   "metadata": {},
   "outputs": [],
   "source": [
    "print(\"Coverage Ratio\")\n",
    "print(f\"BioSample: {len(tissue_lung_biosample)/len(samples)}\")\n",
    "print(f\"GPT4: {len(tissue_lung_llm)/len(samples)}\")\n",
    "print(f\"GPT4+CEDAR: {len(tissue_lung_cedar)/len(samples)}\")"
   ]
  },
  {
   "cell_type": "code",
   "execution_count": null,
   "id": "8819b43a-6f97-4073-8fab-0e76f9cafab9",
   "metadata": {},
   "outputs": [],
   "source": [
    "print(len(samples))"
   ]
  },
  {
   "cell_type": "code",
   "execution_count": null,
   "id": "75896495-b69e-479a-a086-5d543c26e7ef",
   "metadata": {
    "tags": []
   },
   "outputs": [],
   "source": [
    "# Open the file and read lines\n",
    "present_list = []\n",
    "next_list = []\n",
    "\n",
    "file_path = 'annotated_1000_samples_llama.txt'  # Replace with your file path\n",
    "with open(file_path, 'r') as file:\n",
    "    for line in file:\n",
    "        # Split the line based on the colon separator\n",
    "        parts = line.strip().split(':')\n",
    "        \n",
    "        if len(parts) == 3:\n",
    "            index, present, next_val = parts  # Unpack the parts\n",
    "            \n",
    "            # Strip any extra spaces around values\n",
    "            present = present.strip()\n",
    "            next_val = next_val.strip()\n",
    "\n",
    "            # Append values to respective lists\n",
    "            present_list.append(present)\n",
    "            next_list.append(next_val)\n",
    "\n",
    "# Output the two lists\n",
    "present_list, next_list"
   ]
  },
  {
   "cell_type": "code",
   "execution_count": null,
   "id": "b9914d90-3a4b-4a82-bd53-5c633ff32fff",
   "metadata": {},
   "outputs": [],
   "source": [
    "ground_truth = []\n",
    "with open('annotated_800_simple_ovary.txt', 'r') as file:\n",
    "        for line in file:\n",
    "            ground_truth.append(line.strip())\n",
    "            "
   ]
  },
  {
   "cell_type": "code",
   "execution_count": null,
   "id": "ce4ece8d-e9fb-43d9-a1da-e6713368ce2b",
   "metadata": {
    "tags": []
   },
   "outputs": [],
   "source": [
    "print(len([ground_truth[i] for i in range(800) if ground_truth[i] == 'blood']))"
   ]
  },
  {
   "cell_type": "code",
   "execution_count": null,
   "id": "e14829b1-a6cf-45ac-910d-4c95700aeabb",
   "metadata": {
    "tags": []
   },
   "outputs": [],
   "source": [
    "print(ground_truth)"
   ]
  },
  {
   "cell_type": "code",
   "execution_count": null,
   "id": "36f99054-f2c4-4cec-b1de-dd037db3dc5f",
   "metadata": {},
   "outputs": [],
   "source": [
    "def evaluate(samples, ground_truth, val):\n",
    "    rel = ground_truth.count(val)\n",
    "    print(rel)\n",
    "    \n",
    "    # Indices of relevant items in ground_truth\n",
    "    grd = []\n",
    "    for indx, i in enumerate(ground_truth):\n",
    "        if i == val:\n",
    "            grd.append(indx)\n",
    "    \n",
    "    # Calculate precision\n",
    "    prec = 0\n",
    "    for [ind, sample] in samples:\n",
    "        if ind in grd:\n",
    "            prec += 1\n",
    "    \n",
    "    # Precision and recall calculations\n",
    "    precision = prec / len(samples) if len(samples) > 0 else 0\n",
    "    recall = prec / rel if rel > 0 else 0\n",
    "    \n",
    "    # F1 score calculation\n",
    "    if precision + recall > 0:\n",
    "        f1_score = 2 * (precision * recall) / (precision + recall)\n",
    "    else:\n",
    "        f1_score = 0\n",
    "\n",
    "    # Return precision, recall, and F1 score\n",
    "    return precision, recall, f1_score\n",
    "    \n",
    "    "
   ]
  },
  {
   "cell_type": "code",
   "execution_count": null,
   "id": "1bfd1f96-ce30-4d3b-9880-08963686ce51",
   "metadata": {},
   "outputs": [],
   "source": [
    "print(evaluate(tissue_lung_biosample, ground_truth, 'ovary'))"
   ]
  },
  {
   "cell_type": "code",
   "execution_count": null,
   "id": "645d5eaf-ac4c-4b66-9045-f9eb98e2dcbf",
   "metadata": {},
   "outputs": [],
   "source": [
    "print(evaluate(tissue_lung_llm, ground_truth, 'ovary'))"
   ]
  },
  {
   "cell_type": "code",
   "execution_count": null,
   "id": "1c1c9f09-0988-46d4-ae33-ce5cda5cf0ba",
   "metadata": {},
   "outputs": [],
   "source": [
    "print(evaluate(tissue_lung_cedar, ground_truth, 'ovary'))"
   ]
  },
  {
   "cell_type": "code",
   "execution_count": null,
   "id": "7c8c9583-3300-4146-97a9-ea5e05a170ea",
   "metadata": {},
   "outputs": [],
   "source": []
  }
 ],
 "metadata": {
  "kernelspec": {
   "display_name": "Python 3 (ipykernel)",
   "language": "python",
   "name": "python3"
  },
  "language_info": {
   "codemirror_mode": {
    "name": "ipython",
    "version": 3
   },
   "file_extension": ".py",
   "mimetype": "text/x-python",
   "name": "python",
   "nbconvert_exporter": "python",
   "pygments_lexer": "ipython3",
   "version": "3.9.13"
  }
 },
 "nbformat": 4,
 "nbformat_minor": 5
}
