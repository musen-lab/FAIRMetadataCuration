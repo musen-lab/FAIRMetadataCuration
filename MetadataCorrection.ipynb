{
 "cells": [
  {
   "cell_type": "code",
   "execution_count": null,
   "id": "9f7694ec-6845-4b36-8a14-b99926c47af2",
   "metadata": {},
   "outputs": [],
   "source": [
    "import json\n",
    "def read_and_parse_json(file_path):\n",
    "    parsed_objects = []\n",
    "    with open(file_path, 'r') as file:\n",
    "        for line in file:\n",
    "            try:\n",
    "            # Parsing each line as a separate JSON object\n",
    "              json_object = json.loads(line.strip())\n",
    "              parsed_objects.append(json_object)\n",
    "            except:\n",
    "              print(f\"Error serializing record: {line}\")\n",
    "              continue\n",
    "    return parsed_objects"
   ]
  },
  {
   "cell_type": "code",
   "execution_count": null,
   "id": "6adeaad1-bb69-47e0-b6ba-e79e65099c6c",
   "metadata": {},
   "outputs": [],
   "source": [
    "def print_sample(s):\n",
    "  l = \"\"\n",
    "  for attr in s.keys():\n",
    "    val = s[attr]\n",
    "    if type(s[attr]) == list:\n",
    "        val=s[attr][0]\n",
    "    l = l + attr + \" : \" + val + \"\\n\"\n",
    "  return l"
   ]
  },
  {
   "cell_type": "code",
   "execution_count": null,
   "id": "781a4490-b881-4eb3-a385-20000ecfebfb",
   "metadata": {},
   "outputs": [],
   "source": [
    "data = read_and_parse_json(\"data/ovarian_cancer_800_gpt_output.json\")"
   ]
  },
  {
   "cell_type": "code",
   "execution_count": null,
   "id": "d3d48c3e-b7b6-44da-ad4c-bf16ca9c6d7c",
   "metadata": {},
   "outputs": [],
   "source": [
    "samples = []\n",
    "for d in data:\n",
    "  samples.append(d['BioSample'])"
   ]
  },
  {
   "cell_type": "code",
   "execution_count": null,
   "id": "cad43698-9d95-4d5a-be62-3a418646c109",
   "metadata": {},
   "outputs": [],
   "source": [
    "import openai\n",
    "\n",
    "client = openai.OpenAI(\n",
    "    base_url=\"http://localhost:11434/v1\",\n",
    "    api_key=\"nokeyneeded\",\n",
    ")"
   ]
  },
  {
   "cell_type": "code",
   "execution_count": null,
   "id": "ea8956e7-cd76-48ab-9981-80bb3e641703",
   "metadata": {},
   "outputs": [],
   "source": [
    "MODEL_NAME = \"medllama2\""
   ]
  },
  {
   "cell_type": "code",
   "execution_count": null,
   "id": "deec074b-23f6-4cf3-9d3c-5ddfd9496120",
   "metadata": {},
   "outputs": [],
   "source": [
    "biosample_desc = '''* mandatory attribute\n",
    "Name\tDescription\tValue format\n",
    "* sample_name\tSample Name is a name that you choose for the sample. It can have any format, but we suggest that you make it concise, unique and consistent within your lab, and as informative as possible. Every Sample Name from a single Submitter must be unique.\n",
    "sample_title\tTitle of the sample.\n",
    "bioproject_accession\tThe accession number of the BioProject(s) to which the BioSample belongs. If the BioSample belongs to more than one BioProject, enter multiple bioproject_accession columns. A valid BioProject accession has prefix PRJN, PRJE or PRJD, e.g., PRJNA12345.\n",
    "* organism\tThe most descriptive organism name for this sample (to the species, if possible). It is OK to submit an organism name that is not in our database. In the case of a new species, provide the desired organism name, and our taxonomists may assign a provisional taxID. In the case of unidentified species, choose the appropriate Genus and include 'sp.', e.g., \"Escherichia sp.\". When sequencing a genome from a non-metagenomic source, include a strain or isolate name too, e.g., \"Pseudomonas sp. UK4\". For more information about providing a valid organism, including new species, metagenomes (microbiomes) and metagenome-assembled genomes, see https://www.ncbi.nlm.nih.gov/biosample/docs/organism/.\n",
    "Organism\n",
    "* isolate\tidentification or description of the specific individual from which this sample was obtained\n",
    "* age\tage at the time of sampling; relevant scale depends on species and study, e.g. could be seconds for amoebae or centuries for trees\t{float} {unit}\n",
    "* biomaterial_provider\tname and address of the lab or PI, or a culture collection identifier\n",
    "* collection_date\tthe date on which the sample was collected; date/time ranges are supported by providing two dates from among the supported value formats, delimited by a forward-slash character; collection times are supported by adding \"T\", then the hour and minute after the date, and must be in Coordinated Universal Time (UTC), otherwise known as \"Zulu Time\" (Z); supported formats include \"DD-Mmm-YYYY\", \"Mmm-YYYY\", \"YYYY\" or ISO 8601 standard \"YYYY-mm-dd\", \"YYYY-mm\", \"YYYY-mm-ddThh:mm:ss\"; e.g., 30-Oct-1990, Oct-1990, 1990, 1990-10-30, 1990-10, 21-Oct-1952/15-Feb-1953, 2015-10-11T17:53:03Z; valid non-ISO dates will be automatically transformed to ISO format\t{timestamp}\n",
    "* geo_loc_name\tGeographical origin of the sample; use the appropriate name from this list http://www.insdc.org/documents/country-qualifier-vocabulary. Use a colon to separate the country or ocean from more detailed information about the location, eg \"Canada: Vancouver\" or \"Germany: halfway down Zugspitze, Alps\"\t{term}:{term}:{text}\n",
    "* sex\tphysical sex of sampled organism\tmale | female | pooled male and female | neuter | hermaphrodite | intersex | not determined | missing | not applicable | not collected | not provided | restricted access\n",
    "* tissue\tType of tissue the sample was taken from.\n",
    "cell_line\tName of the cell line.\n",
    "cell_subtype\n",
    "cell_type\tType of cell of the sample or from which the sample was obtained.\n",
    "culture_collection\tName of source institute and unique culture identifier. See the description for the proper format and list of allowed institutes, http://www.insdc.org/controlled-vocabulary-culturecollection-qualifier\n",
    "dev_stage\tDevelopmental stage at the time of sampling.\n",
    "disease\tlist of diseases diagnosed; can include multiple diagnoses. the value of the field depends on host; for humans the terms should be chosen from DO (Disease Ontology), free text for non-human. For DO terms, please see http://gemina.svn.sourceforge.net/viewvc/gemina/trunk/Gemina/ontologies/gemina_symptom.obo?view=log\t{term}\n",
    "disease_stage\tstage of disease at the time of sampling.\n",
    "ethnicity\tethnicity of the subject\t{integer|text}\n",
    "health_state\tHealth or disease status of sample at time of collection\t{term}\n",
    "karyotype\n",
    "phenotype\tPhenotype of sampled organism. For Phenotypic quality Ontology (PATO) (v1.269) terms, please see http://bioportal.bioontology.org/visualize/44601\t{term}\n",
    "population\tfor human: ; for plants: filial generation, number of progeny, genetic structure\n",
    "race\n",
    "sample_type\tSample type, such as cell culture, mixed culture, tissue sample, whole organism, single cell, metagenomic assembly\n",
    "treatment\n",
    "description\tDescription of the sample.'''"
   ]
  },
  {
   "cell_type": "code",
   "execution_count": null,
   "id": "ee906992-2793-45d8-be80-ee1f7a59de70",
   "metadata": {},
   "outputs": [],
   "source": [
    "def llm_response(model, text):\n",
    "    response = client.chat.completions.create(\n",
    "    model=MODEL_NAME,\n",
    "    temperature=0.7,\n",
    "    messages=[\n",
    "        {\"role\": \"user\", \"content\": text}\n",
    "       \n",
    "    ],)\n",
    "    ans = response.choices[0].message.content\n",
    "    \n",
    "    return ans"
   ]
  },
  {
   "cell_type": "code",
   "execution_count": null,
   "id": "de1415e4-4383-47ff-8420-9d84ba0a54ec",
   "metadata": {},
   "outputs": [],
   "source": [
    "def str_dict(sample):\n",
    "  print(sample)\n",
    "  lines = sample.split('\\n')\n",
    "  dict_sample = {}\n",
    "  for line in lines:\n",
    "    print(line)\n",
    "    if (not line):\n",
    "      continue\n",
    "    key = line.split(' : ')[0]\n",
    "    val = line.split(' : ')[1]\n",
    "    dict_sample[key] = val\n",
    "  return dict_sample"
   ]
  },
  {
   "cell_type": "code",
   "execution_count": null,
   "id": "f5a0a360-205f-42cb-b6e5-7daae08b09ca",
   "metadata": {
    "tags": []
   },
   "outputs": [],
   "source": [
    "llm_samples = []\n",
    "for i, sample in enumerate(data):\n",
    "  if (not sample):\n",
    "    continue\n",
    "  print(i)\n",
    "  #sample = str_dict(print_sample(sample))\n",
    "  sample = sample['BioSample']['tissue']\n",
    "  prompt = \"Given the following sample from BioSample':\\n\"\n",
    "  prompt = prompt + str(sample) +'\\n'\n",
    "  prompt = prompt + \"Report a new and corrected metadata\"\n",
    "  prompt = prompt + \"Check if the field values and field name makes sense. If not match is found for a field name, match to an ontology.\"\n",
    "  prompt = prompt + \"As far as possible, make field values adhere to ontology restrictions.\"\n",
    "  prompt = prompt + \"The following text is the BioSample data description: \" + biosample_desc + \"\\n\"\n",
    "  prompt = prompt + \"Output only the corrected record in Python dict format without comments and suggestions\\n\"\n",
    "  \n",
    "  prompt = prompt + \"Have only simple key-value pairs in the dict. No nested/compplex values\\n\\n\"\n",
    "  \n",
    "\n",
    "  ans = llm_response(MODEL_NAME, prompt)\n",
    "  prompt = \"Given this text: \\n\" + ans + \"\\nExtract the python dictionary alone. DO NOT GIVE ANY EXTRA TEXT\"\n",
    "  ans = llm_response(MODEL_NAME, prompt)\n",
    "  print(ans)\n",
    "  llm_samples.append(eval(ans.replace('```','').replace('python','')))\n",
    "  break"
   ]
  },
  {
   "cell_type": "code",
   "execution_count": null,
   "id": "f5d1be48-849f-4696-9fbe-41289ee38127",
   "metadata": {
    "tags": []
   },
   "outputs": [],
   "source": [
    "cedar_samples = []\n",
    "answers = []\n",
    "for i, sample in enumerate(data):\n",
    "  if (not sample):\n",
    "    continue\n",
    "  print(i)\n",
    "  sample = sample['BioSample']#['tissue']\n",
    "  prompt = \"Given the following sample from BioSample':\\n\"\n",
    "  prompt = prompt + str(sample) +'\\n'\n",
    "  prompt = prompt + \"Correct the value of tissue field name if required\\n\"\n",
    "  prompt = prompt + \"Requirement: tissue - value should be tissue name from UBERON ontology\"\n",
    "  prompt = prompt + \"Accepted outputs are tissue:lung, tissue:skin etc\"\n",
    "  prompt = prompt + \"As far as possible, make field values adhere to ontology restrictions.\"\n",
    "  \n",
    "  \n",
    "  prompt = prompt + \"Give the answer in the form `tissue:ans`. \\n DO NOT GIVE ANY OTHER TEXT\"\n",
    "  \n",
    "\n",
    "  ans = llm_response(MODEL_NAME, prompt)\n",
    "  answers.append(ans)\n",
    "  k = {}\n",
    "  if ':' in ans:\n",
    "    k[ans.split(':')[0]] = ans.split(':')[1]\n",
    "  print(k)\n",
    "  print(sample.get('tissue'))\n",
    "  print('---')\n",
    "  cedar_samples.append(k)\n",
    " "
   ]
  },
  {
   "cell_type": "code",
   "execution_count": null,
   "id": "3724dd6d-1efc-4625-830a-3c4438c70a3c",
   "metadata": {
    "tags": []
   },
   "outputs": [],
   "source": [
    "llm_samples = []\n",
    "answers = []\n",
    "\n",
    "for i, sample in enumerate(data):\n",
    "#for i, sample in enumerate(samples):\n",
    "  if (not sample):\n",
    "    continue\n",
    "  print(i)\n",
    "  print(sample)\n",
    " \n",
    "  sample = sample['BioSample']\n",
    "  prompt = \"Given the following sample from BioSample':\\n\"\n",
    "  prompt = prompt +str(sample) +'\\n'\n",
    "  prompt = prompt + \"Correct the value of tissue field name if required\\n\"\n",
    "  prompt = prompt + \"Requirement: tissue - value should be Type of tissue the sample was taken from.\"\n",
    "  prompt = prompt + \"As far as possible, make field values adhere to ontology restrictions.\"\n",
    "  \n",
    "  \n",
    "  prompt = prompt + \"Give the answer in the form `tissue:ans`. \\n DO NOT GIVE ANY OTHER TEXT\"\n",
    "  \n",
    "\n",
    "  ans = llm_response(MODEL_NAME, prompt)\n",
    "  answers.append(ans)\n",
    "  k = {}\n",
    "  if ':' in ans:\n",
    "    k[ans.split(':')[0]] = ans.split(':')[1]\n",
    "  print(k)\n",
    "  print(sample.get('tissue'))\n",
    "  print('---')\n",
    "  llm_samples.append(k)\n",
    " \n",
    " "
   ]
  },
  {
   "cell_type": "code",
   "execution_count": null,
   "id": "c24ef2a5-a15f-407b-b60b-c7abf78e7eb0",
   "metadata": {
    "tags": []
   },
   "outputs": [],
   "source": [
    "#cedar samples\n",
    "cedar = \"biosample_accession\\nsample_name\\nsample_title\\nbioproject_accession\\norganism\\nisolate\\nage\\nbiomaterial_provider\\nsex\\ntissue\\ncell_line\\ncell_subtype\\ncell_type\\nculture_collection\\ndev_stage\\ndisease\\ndisease_stage\\nethnicity\\nhealth_state\\nkaryotype\\nphenotype\\npopulation\\nrace\\nsample_type\\ntreatment\\ndescription\"\n",
    "llm_cedar_samples = []\n",
    "from logger_package import openai_api_listener\n",
    "\n",
    "\n",
    "for i, sample in enumerate(samples):\n",
    "  if (not sample):\n",
    "    continue\n",
    "  prompt = \"Given the following sample from GEO':\\n\"\n",
    "  prompt = prompt + str(sample) +'\\n'\n",
    "  prompt = prompt + \"Report a new and corrected metadata sample where the field names must be one of \" + cedar\n",
    "  prompt = prompt + \"\\nCheck if the field values and field name makes sense. If not match is found for a field name, match to an ontology.\"\n",
    "  prompt = prompt + \"\\nAs far as possible, make field values adhere to ontology restrictions.\\n\"\n",
    "  prompt = prompt + \"\\ntissue field value should be one of UBERON ontology concept name (for example, sac, lung etc)\"\n",
    "  prompt = prompt + \"\\ndisease field value should be one of DOID ontology concept name (for example, arthritis etc)\"\n",
    "  prompt = prompt + \"\\ncell type field value should be one of CL ontology concept name\"\n",
    "  prompt = prompt + \"\\nMissing value should be 'NA'\"\n",
    "  prompt = prompt + \"Do not provide any explanations and only the corrected record in Python dict format\"\n",
    "  ans = \"\"\n",
    "  with openai_api_listener():\n",
    "    ans = get_ans(prompt)\n",
    "  llm_cedar_samples.append(eval(ans))"
   ]
  },
  {
   "cell_type": "code",
   "execution_count": null,
   "id": "b3af47ba-43a4-4652-a005-781604804aac",
   "metadata": {},
   "outputs": [],
   "source": []
  },
  {
   "cell_type": "code",
   "execution_count": null,
   "id": "08a59644-baa5-478b-8a71-ad9374b0bf13",
   "metadata": {},
   "outputs": [],
   "source": [
    "records = []\n",
    "\n",
    "\n",
    "for i in range(0, len(samples)):\n",
    "  dict_sample = {}\n",
    "  dict_sample['BioSample'] = samples[i]\n",
    "  dict_sample['LLM'] = llm_samples[i]\n",
    "  dict_sample['LLM+CEDAR'] = cedar_samples[i]\n",
    "  records.append(dict_sample)"
   ]
  },
  {
   "cell_type": "code",
   "execution_count": null,
   "id": "b4ca741d-7be1-4bb7-811d-a609d2b31031",
   "metadata": {},
   "outputs": [],
   "source": []
  },
  {
   "cell_type": "code",
   "execution_count": null,
   "id": "4d62960b-609c-4fed-850a-3ad13a40470e",
   "metadata": {},
   "outputs": [],
   "source": [
    "import json\n",
    "with open(\"ovarian_cancer_medllama_biosample_output.json\", \"w\") as output_file:\n",
    "    # Iterate over records and serialize each one\n",
    "    for record in records:\n",
    "        try:\n",
    "            # Serialize the record to JSON and write to the file\n",
    "            json.dump(record, output_file)\n",
    "            output_file.write(\"\\n\")  # Add a newline character to separate records\n",
    "        except TypeError as e:\n",
    "            print(record)\n",
    "            print(f\"Error serializing record: {e}\")\n",
    "            continue"
   ]
  },
  {
   "cell_type": "code",
   "execution_count": null,
   "id": "ed87e26e-98cc-487e-9d33-e04b5535ca78",
   "metadata": {},
   "outputs": [],
   "source": []
  }
 ],
 "metadata": {
  "kernelspec": {
   "display_name": "Python 3 (ipykernel)",
   "language": "python",
   "name": "python3"
  },
  "language_info": {
   "codemirror_mode": {
    "name": "ipython",
    "version": 3
   },
   "file_extension": ".py",
   "mimetype": "text/x-python",
   "name": "python",
   "nbconvert_exporter": "python",
   "pygments_lexer": "ipython3",
   "version": "3.9.13"
  }
 },
 "nbformat": 4,
 "nbformat_minor": 5
}
